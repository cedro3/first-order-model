{
 "cells": [
  {
   "cell_type": "markdown",
   "metadata": {
    "colab_type": "text",
    "id": "view-in-github"
   },
   "source": [
    "<a href=\"https://colab.research.google.com/github/cedro3/first-order-model/blob/master/demo2_run.ipynb\" target=\"_parent\"><img src=\"https://colab.research.google.com/assets/colab-badge.svg\" alt=\"Open In Colab\"/></a>"
   ]
  },
  {
   "cell_type": "markdown",
   "metadata": {
    "colab_type": "text",
    "id": "V-JokWU-RD42"
   },
   "source": [
    "# First Order Motion Model DEMO"
   ]
  },
  {
   "cell_type": "markdown",
   "metadata": {
    "colab_type": "text",
    "id": "Qhy8FXY4Oqu1"
   },
   "source": [
    "# コード全体を git clone"
   ]
  },
  {
   "cell_type": "code",
   "execution_count": null,
   "metadata": {
    "colab": {},
    "colab_type": "code",
    "id": "JfQeW_7vXH15"
   },
   "outputs": [],
   "source": [
    "!git clone https://github.com/cedro3/first-order-model.git"
   ]
  },
  {
   "cell_type": "code",
   "execution_count": null,
   "metadata": {
    "colab": {},
    "colab_type": "code",
    "id": "pLr90osiXaj1"
   },
   "outputs": [],
   "source": [
    "cd first-order-model"
   ]
  },
  {
   "cell_type": "markdown",
   "metadata": {
    "colab_type": "text",
    "id": "bkoloNgYOxyt"
   },
   "source": [
    "# サンプルデータ (sample.zip)　をダウンロード"
   ]
  },
  {
   "cell_type": "code",
   "execution_count": null,
   "metadata": {
    "colab": {},
    "colab_type": "code",
    "id": "454uobFSXffj"
   },
   "outputs": [],
   "source": [
    "# Google drive から サンプルデータ (sample.zip) をダウンロードする\n",
    "import requests\n",
    "\n",
    "def download_file_from_google_drive(id, destination):\n",
    "\n",
    "       # ダウンロード画面のURL\n",
    "       URL = \"https://drive.google.com/uc?id=1qHX6hFJlWVdzsQZASNLsoQsDlTccyQce&export=download\" \n",
    "\n",
    "       session = requests.Session()\n",
    "\n",
    "       response = session.get(URL, params = { 'id' : id }, stream = True)\n",
    "       token = get_confirm_token(response)\n",
    "\n",
    "       if token:\n",
    "           params = { 'id' : id, 'confirm' : token }\n",
    "           response = session.get(URL, params = params, stream = True)\n",
    "\n",
    "       save_response_content(response, destination)    \n",
    "\n",
    "def get_confirm_token(response):\n",
    "       for key, value in response.cookies.items():\n",
    "           if key.startswith('download_warning'):\n",
    "               return value\n",
    "\n",
    "       return None\n",
    "\n",
    "def save_response_content(response, destination):\n",
    "       CHUNK_SIZE = 32768\n",
    "\n",
    "       with open(destination, \"wb\") as f:\n",
    "           for chunk in response.iter_content(CHUNK_SIZE):\n",
    "               if chunk: # filter out keep-alive new chunks\n",
    "                   f.write(chunk)\n",
    "\n",
    "if __name__ == \"__main__\":\n",
    "       file_id = 'TAKE ID FROM SHAREABLE LINK' \n",
    "       destination = './sample.zip'  # 保存先パスの指定\n",
    "       download_file_from_google_drive(file_id, destination)"
   ]
  },
  {
   "cell_type": "code",
   "execution_count": null,
   "metadata": {
    "colab": {},
    "colab_type": "code",
    "id": "QRhOMFOaX2gI"
   },
   "outputs": [],
   "source": [
    "# sample.zip ファイルを解凍する\n",
    "import zipfile\n",
    "zipf = zipfile.ZipFile('sample.zip')\n",
    "zipf.extractall()\n",
    "zipf.close()"
   ]
  },
  {
   "cell_type": "markdown",
   "metadata": {
    "colab_type": "text",
    "id": "t0ubfS5IPI5y"
   },
   "source": [
    "# コード本体"
   ]
  },
  {
   "cell_type": "code",
   "execution_count": null,
   "metadata": {
    "colab": {},
    "colab_type": "code",
    "id": "mwd6aqLxYouZ"
   },
   "outputs": [],
   "source": [
    "import imageio\n",
    "import numpy as np\n",
    "import matplotlib.pyplot as plt\n",
    "import matplotlib.animation as animation\n",
    "from skimage.transform import resize\n",
    "from IPython.display import HTML\n",
    "import warnings\n",
    "warnings.filterwarnings(\"ignore\")\n",
    "\n",
    "def display(source, driving, generated=None):\n",
    "    fig = plt.figure(figsize=(8 + 4 * (generated is not None), 6))\n",
    "\n",
    "    ims = []\n",
    "    for i in range(len(driving)):\n",
    "        cols = [source]\n",
    "        cols.append(driving[i])\n",
    "        if generated is not None:\n",
    "            cols.append(generated[i])\n",
    "        im = plt.imshow(np.concatenate(cols, axis=1), animated=True)\n",
    "        plt.axis('off')\n",
    "        ims.append([im])\n",
    "\n",
    "    ani = animation.ArtistAnimation(fig, ims, interval=33, repeat_delay=1000)\n",
    "    plt.close()\n",
    "    return ani"
   ]
  },
  {
   "cell_type": "markdown",
   "metadata": {
    "colab_type": "text",
    "id": "7gyg153VPN9e"
   },
   "source": [
    "# 「モナリザ」の静止画を「トランプ大統領」の動画のように動かす"
   ]
  },
  {
   "cell_type": "code",
   "execution_count": null,
   "metadata": {
    "colab": {},
    "colab_type": "code",
    "id": "QqbNp1KYZLwk"
   },
   "outputs": [],
   "source": [
    "from demo import load_checkpoints\n",
    "from demo import make_animation\n",
    "from skimage import img_as_ubyte\n",
    "\n",
    "source_image = imageio.imread('./sample/05.png')\n",
    "driving_video = imageio.mimread('./sample/04.mp4')\n",
    "\n",
    "#Resize image and video to 256x256\n",
    "source_image = resize(source_image, (256, 256))[..., :3]\n",
    "driving_video = [resize(frame, (256, 256))[..., :3] for frame in driving_video]\n",
    "\n",
    "\n",
    "generator, kp_detector = load_checkpoints(config_path='config/vox-256.yaml', \n",
    "                            checkpoint_path='./sample/vox-cpk.pth.tar')\n",
    "\n",
    "predictions = make_animation(source_image, driving_video, generator, kp_detector, relative=True)\n",
    "\n",
    "HTML(display(source_image, driving_video, predictions).to_html5_video())"
   ]
  },
  {
   "cell_type": "markdown",
   "metadata": {},
   "source": [
    "#オリジナル動画を使う"
   ]
  },
  {
   "cell_type": "code",
   "execution_count": null,
   "metadata": {
    "colab": {},
    "colab_type": "code",
    "id": "gYTHzaP66JYl"
   },
   "outputs": [],
   "source": [
    "# ABCニュースの動画からキャスターの顔部分だけを切り出し\n",
    "!ffmpeg -i ./sample/news.mp4 -ss 00:00:00.00 -t 00:00:10 -filter:v \"crop=200:200:550:80\" -async 1 result.mp4"
   ]
  },
  {
   "cell_type": "code",
   "execution_count": null,
   "metadata": {
    "colab": {},
    "colab_type": "code",
    "id": "qikzoQYT_btJ"
   },
   "outputs": [],
   "source": [
    "# result.mp4 を動画にして、5枚の静止画から生成動画のフレームを作成する\n",
    "\n",
    "from demo import load_checkpoints\n",
    "from demo import make_animation\n",
    "from skimage import img_as_ubyte\n",
    "\n",
    "s0 = resize(imageio.imread('./sample/pic0.png'), (256, 256))[..., :3]\n",
    "s1 = resize(imageio.imread('./sample/pic1.png'), (256, 256))[..., :3]\n",
    "s2 = resize(imageio.imread('./sample/pic2.png'), (256, 256))[..., :3]\n",
    "s3 = resize(imageio.imread('./sample/pic3.png'), (256, 256))[..., :3]\n",
    "s4 = resize(imageio.imread('./sample/pic4.png'), (256, 256))[..., :3]\n",
    "source_image = [s0, s1, s2, s3, s4]\n",
    "\n",
    "\n",
    "driving_video = imageio.mimread('./result.mp4')\n",
    "driving_video = [resize(frame, (256, 256))[..., :3] for frame in driving_video]\n",
    "\n",
    "generator, kp_detector = load_checkpoints(config_path='config/vox-256.yaml', \n",
    "                            checkpoint_path='./sample/vox-cpk.pth.tar')\n",
    "\n",
    "result = []\n",
    "for i in range(5):\n",
    "    predictions = make_animation(source_image[i], driving_video, generator, kp_detector, relative=True)\n",
    "    result.append(predictions)"
   ]
  },
  {
   "cell_type": "code",
   "execution_count": null,
   "metadata": {
    "colab": {},
    "colab_type": "code",
    "id": "t_HQcMOlC6l7"
   },
   "outputs": [],
   "source": [
    "# 5枚の静止画の生成動画と動画を連結します。\n",
    "\n",
    "from tqdm import trange\n",
    "fig = plt.figure(figsize=(12, 8))\n",
    "ims =[]\n",
    "for i in trange(len(result[0])):\n",
    "    x = np.concatenate([result[0][i], result[1][i], result[2][i]],1)\n",
    "    y = np.concatenate([result[3][i], driving_video[i], result[4][i]],1)\n",
    "    z = np.concatenate([x, y])\n",
    "    im = plt.imshow(z, animated=True)\n",
    "    plt.axis('off')\n",
    "    ims.append([im])\n",
    "\n",
    "print('making animeation...')\n",
    "ani = animation.ArtistAnimation(fig, ims, interval=33, repeat_delay=1000)\n",
    "plt.close()\n",
    "HTML(ani.to_html5_video())"
   ]
  },
  {
   "cell_type": "markdown",
   "metadata": {},
   "source": [
    "＊作成した動画とresult.mp4をダウンロードし、Quicktimeなどを使ってrsult.mp4の音声を取り出して作成した動画に追加して下さい。"
   ]
  }
 ],
 "metadata": {
  "accelerator": "GPU",
  "colab": {
   "include_colab_link": true,
   "name": "demo2_run",
   "provenance": [],
   "toc_visible": true
  },
  "kernelspec": {
   "display_name": "Python 3",
   "language": "python",
   "name": "python3"
  },
  "language_info": {
   "codemirror_mode": {
    "name": "ipython",
    "version": 3
   },
   "file_extension": ".py",
   "mimetype": "text/x-python",
   "name": "python",
   "nbconvert_exporter": "python",
   "pygments_lexer": "ipython3",
   "version": "3.7.2"
  }
 },
 "nbformat": 4,
 "nbformat_minor": 1
}
