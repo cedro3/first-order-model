{
  "nbformat": 4,
  "nbformat_minor": 0,
  "metadata": {
    "accelerator": "GPU",
    "colab": {
      "name": "demo_run",
      "provenance": [],
      "include_colab_link": true
    },
    "kernelspec": {
      "display_name": "Python 3",
      "language": "python",
      "name": "python3"
    },
    "language_info": {
      "codemirror_mode": {
        "name": "ipython",
        "version": 3
      },
      "file_extension": ".py",
      "mimetype": "text/x-python",
      "name": "python",
      "nbconvert_exporter": "python",
      "pygments_lexer": "ipython3",
      "version": "3.7.2"
    }
  },
  "cells": [
    {
      "cell_type": "markdown",
      "metadata": {
        "id": "view-in-github",
        "colab_type": "text"
      },
      "source": [
        "<a href=\"https://colab.research.google.com/github/cedro3/first-order-model/blob/master/demo_run.ipynb\" target=\"_parent\"><img src=\"https://colab.research.google.com/assets/colab-badge.svg\" alt=\"Open In Colab\"/></a>"
      ]
    },
    {
      "cell_type": "markdown",
      "metadata": {
        "id": "V-JokWU-RD42",
        "colab_type": "text"
      },
      "source": [
        "# First Order Motion Model DEMO"
      ]
    },
    {
      "cell_type": "markdown",
      "metadata": {
        "id": "Qhy8FXY4Oqu1",
        "colab_type": "text"
      },
      "source": [
        "# コード全体を git clone"
      ]
    },
    {
      "cell_type": "code",
      "metadata": {
        "colab_type": "code",
        "id": "JfQeW_7vXH15",
        "colab": {}
      },
      "source": [
        "!git clone https://github.com/cedro3/first-order-model.git"
      ],
      "execution_count": null,
      "outputs": []
    },
    {
      "cell_type": "code",
      "metadata": {
        "colab_type": "code",
        "id": "pLr90osiXaj1",
        "colab": {}
      },
      "source": [
        "cd first-order-model"
      ],
      "execution_count": null,
      "outputs": []
    },
    {
      "cell_type": "markdown",
      "metadata": {
        "id": "bkoloNgYOxyt",
        "colab_type": "text"
      },
      "source": [
        "# サンプルデータ (sample.zip)　をダウンロード"
      ]
    },
    {
      "cell_type": "code",
      "metadata": {
        "colab_type": "code",
        "id": "454uobFSXffj",
        "colab": {}
      },
      "source": [
        "# Google drive から サンプルデータ (sample.zip) をダウンロードする\n",
        "import requests\n",
        "\n",
        "def download_file_from_google_drive(id, destination):\n",
        "\n",
        "       # ダウンロード画面のURL\n",
        "       URL = \"https://drive.google.com/uc?id=1OVOjiGEfGgMoVcxAVww7m5nhJO99Tuoc&export=download\" \n",
        "\n",
        "       session = requests.Session()\n",
        "\n",
        "       response = session.get(URL, params = { 'id' : id }, stream = True)\n",
        "       token = get_confirm_token(response)\n",
        "\n",
        "       if token:\n",
        "           params = { 'id' : id, 'confirm' : token }\n",
        "           response = session.get(URL, params = params, stream = True)\n",
        "\n",
        "       save_response_content(response, destination)    \n",
        "\n",
        "def get_confirm_token(response):\n",
        "       for key, value in response.cookies.items():\n",
        "           if key.startswith('download_warning'):\n",
        "               return value\n",
        "\n",
        "       return None\n",
        "\n",
        "def save_response_content(response, destination):\n",
        "       CHUNK_SIZE = 32768\n",
        "\n",
        "       with open(destination, \"wb\") as f:\n",
        "           for chunk in response.iter_content(CHUNK_SIZE):\n",
        "               if chunk: # filter out keep-alive new chunks\n",
        "                   f.write(chunk)\n",
        "\n",
        "if __name__ == \"__main__\":\n",
        "       file_id = 'TAKE ID FROM SHAREABLE LINK' \n",
        "       destination = './sample.zip'  # 保存先パスの指定\n",
        "       download_file_from_google_drive(file_id, destination)"
      ],
      "execution_count": null,
      "outputs": []
    },
    {
      "cell_type": "code",
      "metadata": {
        "colab_type": "code",
        "id": "QRhOMFOaX2gI",
        "colab": {}
      },
      "source": [
        "# sample.zip ファイルを解凍する\n",
        "import zipfile\n",
        "zipf = zipfile.ZipFile('sample.zip')\n",
        "zipf.extractall()\n",
        "zipf.close()"
      ],
      "execution_count": null,
      "outputs": []
    },
    {
      "cell_type": "markdown",
      "metadata": {
        "id": "t0ubfS5IPI5y",
        "colab_type": "text"
      },
      "source": [
        "# コード本体"
      ]
    },
    {
      "cell_type": "code",
      "metadata": {
        "colab_type": "code",
        "id": "mwd6aqLxYouZ",
        "colab": {}
      },
      "source": [
        "import imageio\n",
        "import numpy as np\n",
        "import matplotlib.pyplot as plt\n",
        "import matplotlib.animation as animation\n",
        "from skimage.transform import resize\n",
        "from IPython.display import HTML\n",
        "import warnings\n",
        "warnings.filterwarnings(\"ignore\")\n",
        "\n",
        "def display(source, driving, generated=None):\n",
        "    fig = plt.figure(figsize=(8 + 4 * (generated is not None), 6))\n",
        "\n",
        "    ims = []\n",
        "    for i in range(len(driving)):\n",
        "        cols = [source]\n",
        "        cols.append(driving[i])\n",
        "        if generated is not None:\n",
        "            cols.append(generated[i])\n",
        "        im = plt.imshow(np.concatenate(cols, axis=1), animated=True)\n",
        "        plt.axis('off')\n",
        "        ims.append([im])\n",
        "\n",
        "    ani = animation.ArtistAnimation(fig, ims, interval=50, repeat_delay=1000)\n",
        "    plt.close()\n",
        "    return ani"
      ],
      "execution_count": null,
      "outputs": []
    },
    {
      "cell_type": "markdown",
      "metadata": {
        "id": "7gyg153VPN9e",
        "colab_type": "text"
      },
      "source": [
        "# 「モナリザ」の静止画を「トランプ大統領」の動画に沿って動かす"
      ]
    },
    {
      "cell_type": "code",
      "metadata": {
        "colab_type": "code",
        "id": "QqbNp1KYZLwk",
        "colab": {}
      },
      "source": [
        "from demo import load_checkpoints\n",
        "from demo import make_animation\n",
        "from skimage import img_as_ubyte\n",
        "\n",
        "source_image = imageio.imread('./sample/05.png')\n",
        "driving_video = imageio.mimread('./sample/04.mp4')\n",
        "\n",
        "#Resize image and video to 256x256\n",
        "source_image = resize(source_image, (256, 256))[..., :3]\n",
        "driving_video = [resize(frame, (256, 256))[..., :3] for frame in driving_video]\n",
        "\n",
        "\n",
        "generator, kp_detector = load_checkpoints(config_path='config/vox-256.yaml', \n",
        "                            checkpoint_path='./sample/vox-cpk.pth.tar')\n",
        "\n",
        "predictions = make_animation(source_image, driving_video, generator, kp_detector, relative=True)\n",
        "\n",
        "HTML(display(source_image, driving_video, predictions).to_html5_video())"
      ],
      "execution_count": null,
      "outputs": []
    },
    {
      "cell_type": "markdown",
      "metadata": {
        "id": "Kl4UVdFjPaKF",
        "colab_type": "text"
      },
      "source": [
        "# 「トランプ大統領似のモナリザ」を動かす"
      ]
    },
    {
      "cell_type": "code",
      "metadata": {
        "colab_type": "code",
        "id": "4gUYirbwbfwX",
        "colab": {}
      },
      "source": [
        "predictions = make_animation(source_image, driving_video, generator, kp_detector, relative=False, adapt_movement_scale=True)\n",
        "HTML(display(source_image, driving_video, predictions).to_html5_video())"
      ],
      "execution_count": null,
      "outputs": []
    },
    {
      "cell_type": "markdown",
      "metadata": {
        "id": "AbytqQPtPjcx",
        "colab_type": "text"
      },
      "source": [
        "# ニュース動画からヒントン教授の顔動画をクロップする"
      ]
    },
    {
      "cell_type": "code",
      "metadata": {
        "colab_type": "code",
        "id": "pvQwAYkKcAeQ",
        "colab": {}
      },
      "source": [
        "!ffmpeg -i ./sample/07.mkv -ss 00:08:57.50 -t 00:00:08 -filter:v \"crop=600:600:760:50\" -async 1 hinton.mp4"
      ],
      "execution_count": null,
      "outputs": []
    },
    {
      "cell_type": "markdown",
      "metadata": {
        "id": "Vlf1L4PMP6u-",
        "colab_type": "text"
      },
      "source": [
        "# 「松嶋菜々子」の静止画を「ヒントン教授」のクロップ動画に沿って動かす"
      ]
    },
    {
      "cell_type": "code",
      "metadata": {
        "colab_type": "code",
        "id": "a4rJD9HIcX1T",
        "colab": {}
      },
      "source": [
        "source_image = imageio.imread('./sample/010.png')\n",
        "driving_video = imageio.mimread('hinton.mp4', memtest=False)\n",
        "\n",
        "#Resize image and video to 256x256\n",
        "source_image = resize(source_image, (256, 256))[..., :3]\n",
        "driving_video = [resize(frame, (256, 256))[..., :3] for frame in driving_video]\n",
        "\n",
        "generator, kp_detector = load_checkpoints(config_path='config/vox-256.yaml', \n",
        "                            checkpoint_path='./sample/vox-cpk.pth.tar')\n",
        "predictions = make_animation(source_image, driving_video, generator, kp_detector, relative=True,\n",
        "                             adapt_movement_scale=True)\n",
        "\n",
        "HTML(display(source_image, driving_video, predictions).to_html5_video())"
      ],
      "execution_count": null,
      "outputs": []
    },
    {
      "cell_type": "markdown",
      "metadata": {
        "id": "GIp0YlHiQF4g",
        "colab_type": "text"
      },
      "source": [
        "# モデルの静止画をモデルの動画に沿って動かす"
      ]
    },
    {
      "cell_type": "code",
      "metadata": {
        "colab_type": "code",
        "id": "iVFLXaCEe-Lz",
        "colab": {}
      },
      "source": [
        "from demo import load_checkpoints\n",
        "from demo import make_animation\n",
        "from skimage import img_as_ubyte\n",
        "\n",
        "source_image = imageio.imread('./sample/fashion003.png')\n",
        "driving_video = imageio.mimread('./sample/fashion01.mp4', memtest=False)\n",
        "\n",
        "#Resize image and video to 256x256\n",
        "source_image = resize(source_image, (256, 256))[..., :3]\n",
        "driving_video = [resize(frame, (256, 256))[..., :3] for frame in driving_video]\n",
        "\n",
        "\n",
        "generator, kp_detector = load_checkpoints(config_path='config/fashion-256.yaml', \n",
        "                            checkpoint_path='./sample/fashion.pth.tar')\n",
        "predictions = make_animation(source_image, driving_video, generator, kp_detector, relative=True)\n",
        "\n",
        "HTML(display(source_image, driving_video, predictions).to_html5_video())"
      ],
      "execution_count": null,
      "outputs": []
    }
  ]
}