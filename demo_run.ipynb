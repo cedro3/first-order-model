{
  "nbformat": 4,
  "nbformat_minor": 0,
  "metadata": {
    "accelerator": "GPU",
    "colab": {
      "name": "demo_run",
      "provenance": [],
      "toc_visible": true,
      "include_colab_link": true
    },
    "kernelspec": {
      "display_name": "Python 3",
      "language": "python",
      "name": "python3"
    },
    "language_info": {
      "codemirror_mode": {
        "name": "ipython",
        "version": 3
      },
      "file_extension": ".py",
      "mimetype": "text/x-python",
      "name": "python",
      "nbconvert_exporter": "python",
      "pygments_lexer": "ipython3",
      "version": "3.7.2"
    }
  },
  "cells": [
    {
      "cell_type": "markdown",
      "metadata": {
        "id": "view-in-github",
        "colab_type": "text"
      },
      "source": [
        "<a href=\"https://colab.research.google.com/github/cedro3/first-order-model/blob/master/demo_run.ipynb\" target=\"_parent\"><img src=\"https://colab.research.google.com/assets/colab-badge.svg\" alt=\"Open In Colab\"/></a>"
      ]
    },
    {
      "cell_type": "markdown",
      "metadata": {
        "id": "V-JokWU-RD42"
      },
      "source": [
        "# First Order Motion Model DEMO"
      ]
    },
    {
      "cell_type": "markdown",
      "metadata": {
        "id": "Qhy8FXY4Oqu1"
      },
      "source": [
        "# セットアップ"
      ]
    },
    {
      "cell_type": "code",
      "metadata": {
        "id": "JfQeW_7vXH15"
      },
      "source": [
        "# github からコードを取得\n",
        "!git clone https://github.com/cedro3/first-order-model.git\n",
        "%cd first-order-model\n",
        "\n",
        "# サンプルデータのダウンロード\n",
        "import gdown\n",
        "gdown.download('https://drive.google.com/u/1/uc?id=1Rx_dJOot4VcofLslayyf49Vejc0-Q_t_', 'sample.zip', quiet=False)\n",
        "! unzip sample.zip"
      ],
      "execution_count": null,
      "outputs": []
    },
    {
      "cell_type": "markdown",
      "metadata": {
        "id": "t0ubfS5IPI5y"
      },
      "source": [
        "# コード本体"
      ]
    },
    {
      "cell_type": "code",
      "metadata": {
        "id": "mwd6aqLxYouZ"
      },
      "source": [
        "import imageio\n",
        "import numpy as np\n",
        "import matplotlib.pyplot as plt\n",
        "import matplotlib.animation as animation\n",
        "from skimage.transform import resize\n",
        "from IPython.display import HTML\n",
        "import warnings\n",
        "warnings.filterwarnings(\"ignore\")\n",
        "\n",
        "def display(source, driving, generated=None):\n",
        "    fig = plt.figure(figsize=(8 + 4 * (generated is not None), 6))\n",
        "\n",
        "    ims = []\n",
        "    for i in range(len(driving)):\n",
        "        cols = [source]\n",
        "        cols.append(driving[i])\n",
        "        if generated is not None:\n",
        "            cols.append(generated[i])\n",
        "        im = plt.imshow(np.concatenate(cols, axis=1), animated=True)\n",
        "        plt.axis('off')\n",
        "        ims.append([im])\n",
        "\n",
        "    ani = animation.ArtistAnimation(fig, ims, interval=50, repeat_delay=1000)\n",
        "    plt.close()\n",
        "    return ani"
      ],
      "execution_count": null,
      "outputs": []
    },
    {
      "cell_type": "markdown",
      "metadata": {
        "id": "7gyg153VPN9e"
      },
      "source": [
        "# 「モナリザ」の静止画を「トランプ大統領」の動画のように動かす"
      ]
    },
    {
      "cell_type": "code",
      "metadata": {
        "id": "QqbNp1KYZLwk"
      },
      "source": [
        "from demo import load_checkpoints\n",
        "from demo import make_animation\n",
        "from skimage import img_as_ubyte\n",
        "\n",
        "source_image = imageio.imread('./sample/05.png')\n",
        "driving_video = imageio.mimread('./sample/04.mp4')\n",
        "\n",
        "#Resize image and video to 256x256\n",
        "source_image = resize(source_image, (256, 256))[..., :3]\n",
        "driving_video = [resize(frame, (256, 256))[..., :3] for frame in driving_video]\n",
        "\n",
        "\n",
        "generator, kp_detector = load_checkpoints(config_path='config/vox-256.yaml', \n",
        "                            checkpoint_path='./sample/vox-cpk.pth.tar')\n",
        "\n",
        "predictions = make_animation(source_image, driving_video, generator, kp_detector, relative=True)\n",
        "\n",
        "HTML(display(source_image, driving_video, predictions).to_html5_video())"
      ],
      "execution_count": null,
      "outputs": []
    },
    {
      "cell_type": "markdown",
      "metadata": {
        "id": "Kl4UVdFjPaKF"
      },
      "source": [
        "# 「トランプ大統領似のモナリザ」を動かす"
      ]
    },
    {
      "cell_type": "code",
      "metadata": {
        "id": "4gUYirbwbfwX"
      },
      "source": [
        "predictions = make_animation(source_image, driving_video, generator, kp_detector, relative=False, adapt_movement_scale=True)\n",
        "HTML(display(source_image, driving_video, predictions).to_html5_video())"
      ],
      "execution_count": null,
      "outputs": []
    },
    {
      "cell_type": "markdown",
      "metadata": {
        "id": "AbytqQPtPjcx"
      },
      "source": [
        "# ニュース動画からヒントン教授の顔動画をクロップする"
      ]
    },
    {
      "cell_type": "code",
      "metadata": {
        "id": "pvQwAYkKcAeQ"
      },
      "source": [
        "!ffmpeg -i ./sample/07.mkv -ss 00:08:57.50 -t 00:00:08 -filter:v \"crop=600:600:760:50\" -async 1 hinton.mp4"
      ],
      "execution_count": null,
      "outputs": []
    },
    {
      "cell_type": "markdown",
      "metadata": {
        "id": "Vlf1L4PMP6u-"
      },
      "source": [
        "# 「松嶋菜々子」の静止画を「ヒントン教授」のクロップ動画のように動かす"
      ]
    },
    {
      "cell_type": "code",
      "metadata": {
        "id": "a4rJD9HIcX1T"
      },
      "source": [
        "source_image = imageio.imread('./sample/010.png')\n",
        "driving_video = imageio.mimread('hinton.mp4', memtest=False)\n",
        "\n",
        "#Resize image and video to 256x256\n",
        "source_image = resize(source_image, (256, 256))[..., :3]\n",
        "driving_video = [resize(frame, (256, 256))[..., :3] for frame in driving_video]\n",
        "\n",
        "generator, kp_detector = load_checkpoints(config_path='config/vox-256.yaml', \n",
        "                            checkpoint_path='./sample/vox-cpk.pth.tar')\n",
        "predictions = make_animation(source_image, driving_video, generator, kp_detector, relative=True,\n",
        "                             adapt_movement_scale=True)\n",
        "\n",
        "HTML(display(source_image, driving_video, predictions).to_html5_video())"
      ],
      "execution_count": null,
      "outputs": []
    },
    {
      "cell_type": "markdown",
      "metadata": {
        "id": "GIp0YlHiQF4g"
      },
      "source": [
        "# 「波瑠」の静止画を「モデル」の動画のように動かす"
      ]
    },
    {
      "cell_type": "code",
      "metadata": {
        "id": "iVFLXaCEe-Lz"
      },
      "source": [
        "from demo import load_checkpoints\n",
        "from demo import make_animation\n",
        "from skimage import img_as_ubyte\n",
        "\n",
        "source_image = imageio.imread('./sample/fashion003.png')\n",
        "driving_video = imageio.mimread('./sample/fashion01.mp4', memtest=False)\n",
        "\n",
        "#Resize image and video to 256x256\n",
        "source_image = resize(source_image, (256, 256))[..., :3]\n",
        "driving_video = [resize(frame, (256, 256))[..., :3] for frame in driving_video]\n",
        "\n",
        "\n",
        "generator, kp_detector = load_checkpoints(config_path='config/fashion-256.yaml', \n",
        "                            checkpoint_path='./sample/fashion.pth.tar')\n",
        "predictions = make_animation(source_image, driving_video, generator, kp_detector, relative=True)\n",
        "\n",
        "HTML(display(source_image, driving_video, predictions).to_html5_video())"
      ],
      "execution_count": null,
      "outputs": []
    },
    {
      "cell_type": "markdown",
      "metadata": {
        "id": "UolPRc6y9Tpn"
      },
      "source": [
        "#「石原さとみ」の静止画を「太極拳」の動画のように動かす"
      ]
    },
    {
      "cell_type": "code",
      "metadata": {
        "id": "7LRF3upG9Tpn"
      },
      "source": [
        "from demo import load_checkpoints\n",
        "from demo import make_animation\n",
        "from skimage import img_as_ubyte\n",
        "\n",
        "source_image = imageio.imread('./sample/taichi001.jpg')\n",
        "driving_video = imageio.mimread('./sample/taichi2.mp4', memtest=False)\n",
        "\n",
        "#Resize image and video to 256x256\n",
        "source_image = resize(source_image, (256, 256))[..., :3]\n",
        "driving_video = [resize(frame, (256, 256))[..., :3] for frame in driving_video]\n",
        "\n",
        "\n",
        "generator, kp_detector = load_checkpoints(config_path='config/taichi-256.yaml', \n",
        "                            checkpoint_path='./sample/taichi-cpk.pth.tar')\n",
        "predictions = make_animation(source_image, driving_video, generator, kp_detector, relative=True)\n",
        "\n",
        "HTML(display(source_image, driving_video, predictions).to_html5_video())"
      ],
      "execution_count": null,
      "outputs": []
    }
  ]
}